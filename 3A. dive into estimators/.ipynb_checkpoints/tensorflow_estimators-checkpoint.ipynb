{
 "cells": [
  {
   "cell_type": "markdown",
   "metadata": {},
   "source": [
    "### Import/Load Data"
   ]
  },
  {
   "cell_type": "code",
   "execution_count": null,
   "metadata": {},
   "outputs": [],
   "source": [
    "import tensorflow as tf\n",
    "import numpy as np\n",
    "from tensorflow.contrib.learn.python.learn.datasets import base\n",
    "\n",
    "\n",
    "# Load dataset\n",
    "training_data = \"iris_training.csv\"\n",
    "testing_data = \"iris_test.csv\"\n",
    "training_set = base.load_csv_with_header(filename=training_data,\n",
    "                                         features_dtype=np.float32, \n",
    "                                         target_dtype=np.int)\n",
    "test_set = base.load_csv_with_header(filename=testing_data,\n",
    "                                     features_dtype=np.float32,\n",
    "                                     target_dtype=np.int)"
   ]
  },
  {
   "cell_type": "code",
   "execution_count": null,
   "metadata": {},
   "outputs": [],
   "source": [
    "feature_name = \"iris_features\"\n",
    "feature_columns = [tf.feature_column.numeric_column(feature_name, shape=[4])]"
   ]
  },
  {
   "cell_type": "markdown",
   "metadata": {},
   "source": [
    "### Input Function"
   ]
  },
  {
   "cell_type": "code",
   "execution_count": null,
   "metadata": {},
   "outputs": [],
   "source": [
    "def input_fn(data):\n",
    "    features = {feature_name: tf.constant(data.data)}\n",
    "    label = tf.constant(data.target)\n",
    "    return features, label\n"
   ]
  },
  {
   "cell_type": "code",
   "execution_count": null,
   "metadata": {
    "inputHidden": false,
    "outputHidden": false
   },
   "outputs": [],
   "source": [
    "train_input = lambda: input_fn(training_set)\n",
    "eval_input = lambda: input_fn(test_set)"
   ]
  },
  {
   "cell_type": "markdown",
   "metadata": {},
   "source": [
    "### Training w/ Linear Classifier"
   ]
  },
  {
   "cell_type": "code",
   "execution_count": null,
   "metadata": {},
   "outputs": [],
   "source": [
    "classifier = tf.estimator.LinearClassifier(\n",
    "    feature_columns=feature_columns,\n",
    "    n_classes=3,\n",
    "    model_dir=\"tmp/iris\")\n"
   ]
  },
  {
   "cell_type": "code",
   "execution_count": null,
   "metadata": {
    "inputHidden": false,
    "outputHidden": false
   },
   "outputs": [],
   "source": [
    "# define training, eval spec for train and evaluate including\n",
    "train_spec = tf.estimator.TrainSpec(train_input, \n",
    "                                    max_steps=3000\n",
    "                                    )\n",
    "eval_spec = tf.estimator.EvalSpec(eval_input,\n",
    "                                name='mnist-eval'\n",
    "                                )                                  \n",
    "# run training and evaluation\n",
    "tf.estimator.train_and_evaluate(\n",
    "    classifier, train_spec, eval_spec)\n"
   ]
  },
  {
   "cell_type": "markdown",
   "metadata": {},
   "source": [
    "### Training w/ Deep Neural Network Estimator"
   ]
  },
  {
   "cell_type": "code",
   "execution_count": null,
   "metadata": {},
   "outputs": [],
   "source": [
    "nn_classifier = tf.estimator.DNNClassifier(\n",
    "    feature_columns=feature_columns,\n",
    "    hidden_units=[64, 12, 4],\n",
    "    activation_fn=tf.nn.relu,\n",
    "    dropout=0.4,\n",
    "    n_classes=3,\n",
    "    optimizer=\"Adam\",    \n",
    "    model_dir=\"tmp/irisnn\")\n"
   ]
  },
  {
   "cell_type": "code",
   "execution_count": null,
   "metadata": {
    "inputHidden": false,
    "outputHidden": false
   },
   "outputs": [],
   "source": [
    "# define training, eval spec for train and evaluate including\n",
    "train_spec = tf.estimator.TrainSpec(train_input, \n",
    "                                    max_steps=4200\n",
    "                                    )\n",
    "eval_spec = tf.estimator.EvalSpec(eval_input,\n",
    "                                name='mnist-eval'\n",
    "                                )                                  \n",
    "# run training and evaluation\n",
    "tf.estimator.train_and_evaluate(\n",
    "    nn_classifier, train_spec, eval_spec)"
   ]
  },
  {
   "cell_type": "markdown",
   "metadata": {},
   "source": [
    "### Serving function and exporter"
   ]
  },
  {
   "cell_type": "code",
   "execution_count": null,
   "metadata": {
    "inputHidden": false,
    "outputHidden": false
   },
   "outputs": [],
   "source": [
    "feature_spec = {feature_name: \n",
    "                tf.FixedLenFeature(shape=[4], dtype=np.float32)}\n",
    "serving_fn = tf.estimator.export.build_parsing_serving_input_receiver_fn(feature_spec)\n",
    "\n",
    "exporter = tf.estimator.LatestExporter('exporter',serving_fn) \n",
    "\n",
    "eval_spec = tf.estimator.EvalSpec(eval_input,\n",
    "                                name='mnist-eval',\n",
    "                                exporters=[exporter]\n",
    "                                )     "
   ]
  },
  {
   "cell_type": "markdown",
   "metadata": {},
   "source": [
    "### Re-run and export model"
   ]
  },
  {
   "cell_type": "code",
   "execution_count": null,
   "metadata": {},
   "outputs": [],
   "source": [
    "# run training and evaluation\n",
    "tf.estimator.train_and_evaluate(\n",
    "    nn_classifier, train_spec, eval_spec)"
   ]
  },
  {
   "cell_type": "markdown",
   "metadata": {},
   "source": [
    "### Export Model for Prediction"
   ]
  },
  {
   "cell_type": "code",
   "execution_count": null,
   "metadata": {},
   "outputs": [],
   "source": [
    "new_samples = np.array(\n",
    "      [[6.4, 3.2, 4.5, 1.5],\n",
    "       [5.8, 3.1, 5.0, 1.7]], dtype=np.float32)\n",
    "    \n",
    "predict_input_fn = tf.estimator.inputs.numpy_input_fn(\n",
    "      x={feature_name: new_samples},\n",
    "      num_epochs=1,\n",
    "      shuffle=False)\n",
    "\n",
    "predictions = list(nn_classifier.predict(input_fn=predict_input_fn))\n",
    "predicted_classes = [int(p['classes']) for p in predictions]\n",
    "\n",
    "print(\"New Samples, Class Predictions: {}\\n\".format(predicted_classes))"
   ]
  },
  {
   "cell_type": "code",
   "execution_count": null,
   "metadata": {
    "inputHidden": false,
    "outputHidden": false
   },
   "outputs": [],
   "source": []
  },
  {
   "cell_type": "code",
   "execution_count": null,
   "metadata": {
    "inputHidden": false,
    "outputHidden": false
   },
   "outputs": [],
   "source": []
  }
 ],
 "metadata": {
  "kernel_info": {
   "name": "python3"
  },
  "kernelspec": {
   "display_name": "Python 3",
   "language": "python",
   "name": "python3"
  },
  "language_info": {
   "codemirror_mode": {
    "name": "ipython",
    "version": 3
   },
   "file_extension": ".py",
   "mimetype": "text/x-python",
   "name": "python",
   "nbconvert_exporter": "python",
   "pygments_lexer": "ipython3",
   "version": "3.6.4"
  },
  "nteract": {
   "version": "0.8.4"
  }
 },
 "nbformat": 4,
 "nbformat_minor": 2
}
