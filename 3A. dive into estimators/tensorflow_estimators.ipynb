{
 "cells": [
  {
   "cell_type": "markdown",
   "metadata": {},
   "source": [
    "### Import/Load Data"
   ]
  },
  {
   "cell_type": "code",
   "execution_count": 1,
   "metadata": {},
   "outputs": [
    {
     "name": "stderr",
     "output_type": "stream",
     "text": [
      "/Library/Frameworks/Python.framework/Versions/3.6/lib/python3.6/site-packages/h5py/__init__.py:36: FutureWarning: Conversion of the second argument of issubdtype from `float` to `np.floating` is deprecated. In future, it will be treated as `np.float64 == np.dtype(float).type`.\n",
      "  from ._conv import register_converters as _register_converters\n"
     ]
    }
   ],
   "source": [
    "import tensorflow as tf\n",
    "import numpy as np\n",
    "from tensorflow.contrib.learn.python.learn.datasets import base\n",
    "\n",
    "\n",
    "# Load dataset\n",
    "training_data = \"iris_training.csv\"\n",
    "testing_data = \"iris_test.csv\"\n",
    "training_set = base.load_csv_with_header(filename=training_data,\n",
    "                                         features_dtype=np.float32, \n",
    "                                         target_dtype=np.int)\n",
    "test_set = base.load_csv_with_header(filename=testing_data,\n",
    "                                     features_dtype=np.float32,\n",
    "                                     target_dtype=np.int)"
   ]
  },
  {
   "cell_type": "code",
   "execution_count": 2,
   "metadata": {},
   "outputs": [],
   "source": [
    "feature_name = \"iris_features\"\n",
    "feature_columns = [tf.feature_column.numeric_column(feature_name, shape=[4])]"
   ]
  },
  {
   "cell_type": "markdown",
   "metadata": {},
   "source": [
    "### Input Functions"
   ]
  },
  {
   "cell_type": "code",
   "execution_count": 3,
   "metadata": {},
   "outputs": [],
   "source": [
    "def input_fn(data):\n",
    "    features = {feature_name: tf.constant(data.data)}\n",
    "    label = tf.constant(data.target)\n",
    "    return features, label\n"
   ]
  },
  {
   "cell_type": "code",
   "execution_count": 4,
   "metadata": {
    "inputHidden": false,
    "outputHidden": false
   },
   "outputs": [],
   "source": [
    "train_input = lambda: input_fn(training_set)\n",
    "eval_input = lambda: input_fn(test_set)"
   ]
  },
  {
   "cell_type": "markdown",
   "metadata": {},
   "source": [
    "### Training w/ Linear Classifier"
   ]
  },
  {
   "cell_type": "code",
   "execution_count": 5,
   "metadata": {},
   "outputs": [
    {
     "name": "stdout",
     "output_type": "stream",
     "text": [
      "INFO:tensorflow:Using default config.\n",
      "INFO:tensorflow:Using config: {'_model_dir': 'tmp/iris', '_tf_random_seed': None, '_save_summary_steps': 100, '_save_checkpoints_steps': None, '_save_checkpoints_secs': 600, '_session_config': None, '_keep_checkpoint_max': 5, '_keep_checkpoint_every_n_hours': 10000, '_log_step_count_steps': 100, '_service': None, '_cluster_spec': <tensorflow.python.training.server_lib.ClusterSpec object at 0x11b1116a0>, '_task_type': 'worker', '_task_id': 0, '_global_id_in_cluster': 0, '_master': '', '_evaluation_master': '', '_is_chief': True, '_num_ps_replicas': 0, '_num_worker_replicas': 1}\n"
     ]
    }
   ],
   "source": [
    "classifier = tf.estimator.LinearClassifier(\n",
    "    feature_columns=feature_columns,\n",
    "    n_classes=3,\n",
    "    model_dir=\"tmp/iris\")\n"
   ]
  },
  {
   "cell_type": "code",
   "execution_count": 6,
   "metadata": {
    "inputHidden": false,
    "outputHidden": false
   },
   "outputs": [
    {
     "name": "stdout",
     "output_type": "stream",
     "text": [
      "INFO:tensorflow:Running training and evaluation locally (non-distributed).\n",
      "INFO:tensorflow:Start train and evaluate loop. The evaluate will happen after 600 secs (eval_spec.throttle_secs) or training is finished.\n",
      "INFO:tensorflow:Calling model_fn.\n",
      "INFO:tensorflow:Done calling model_fn.\n",
      "INFO:tensorflow:Create CheckpointSaverHook.\n",
      "INFO:tensorflow:Graph was finalized.\n",
      "INFO:tensorflow:Running local_init_op.\n",
      "INFO:tensorflow:Done running local_init_op.\n",
      "INFO:tensorflow:Saving checkpoints for 1 into tmp/iris/model.ckpt.\n",
      "INFO:tensorflow:loss = 131.83345, step = 1\n",
      "INFO:tensorflow:global_step/sec: 1506.29\n",
      "INFO:tensorflow:loss = 37.13907, step = 101 (0.067 sec)\n",
      "INFO:tensorflow:global_step/sec: 2408.37\n",
      "INFO:tensorflow:loss = 27.859367, step = 201 (0.042 sec)\n",
      "INFO:tensorflow:global_step/sec: 2503.51\n",
      "INFO:tensorflow:loss = 23.044888, step = 301 (0.040 sec)\n",
      "INFO:tensorflow:global_step/sec: 2267.62\n",
      "INFO:tensorflow:loss = 20.058025, step = 401 (0.044 sec)\n",
      "INFO:tensorflow:global_step/sec: 2451.88\n",
      "INFO:tensorflow:loss = 18.008251, step = 501 (0.041 sec)\n",
      "INFO:tensorflow:global_step/sec: 2255.72\n",
      "INFO:tensorflow:loss = 16.505016, step = 601 (0.044 sec)\n",
      "INFO:tensorflow:global_step/sec: 2482\n",
      "INFO:tensorflow:loss = 15.34961, step = 701 (0.040 sec)\n",
      "INFO:tensorflow:global_step/sec: 2456.76\n",
      "INFO:tensorflow:loss = 14.43004, step = 801 (0.041 sec)\n",
      "INFO:tensorflow:global_step/sec: 2482.37\n",
      "INFO:tensorflow:loss = 13.678242, step = 901 (0.040 sec)\n",
      "INFO:tensorflow:global_step/sec: 2542.06\n",
      "INFO:tensorflow:loss = 13.050382, step = 1001 (0.039 sec)\n",
      "INFO:tensorflow:global_step/sec: 2518.77\n",
      "INFO:tensorflow:loss = 12.516876, step = 1101 (0.040 sec)\n",
      "INFO:tensorflow:global_step/sec: 2402.64\n",
      "INFO:tensorflow:loss = 12.057028, step = 1201 (0.041 sec)\n",
      "INFO:tensorflow:global_step/sec: 2164.37\n",
      "INFO:tensorflow:loss = 11.65587, step = 1301 (0.046 sec)\n",
      "INFO:tensorflow:global_step/sec: 2402.4\n",
      "INFO:tensorflow:loss = 11.302312, step = 1401 (0.042 sec)\n",
      "INFO:tensorflow:global_step/sec: 2499.63\n",
      "INFO:tensorflow:loss = 10.987943, step = 1501 (0.040 sec)\n",
      "INFO:tensorflow:global_step/sec: 2445.1\n",
      "INFO:tensorflow:loss = 10.70626, step = 1601 (0.041 sec)\n",
      "INFO:tensorflow:global_step/sec: 2359.94\n",
      "INFO:tensorflow:loss = 10.452157, step = 1701 (0.042 sec)\n",
      "INFO:tensorflow:global_step/sec: 2429.54\n",
      "INFO:tensorflow:loss = 10.221554, step = 1801 (0.041 sec)\n",
      "INFO:tensorflow:global_step/sec: 2324.06\n",
      "INFO:tensorflow:loss = 10.011156, step = 1901 (0.043 sec)\n",
      "INFO:tensorflow:global_step/sec: 2491.48\n",
      "INFO:tensorflow:loss = 9.8182745, step = 2001 (0.040 sec)\n",
      "INFO:tensorflow:global_step/sec: 2416.92\n",
      "INFO:tensorflow:loss = 9.640679, step = 2101 (0.041 sec)\n",
      "INFO:tensorflow:global_step/sec: 2572.28\n",
      "INFO:tensorflow:loss = 9.476521, step = 2201 (0.039 sec)\n",
      "INFO:tensorflow:global_step/sec: 2521.04\n",
      "INFO:tensorflow:loss = 9.324238, step = 2301 (0.040 sec)\n",
      "INFO:tensorflow:global_step/sec: 2548.81\n",
      "INFO:tensorflow:loss = 9.182506, step = 2401 (0.039 sec)\n",
      "INFO:tensorflow:global_step/sec: 2421.54\n",
      "INFO:tensorflow:loss = 9.050199, step = 2501 (0.041 sec)\n",
      "INFO:tensorflow:global_step/sec: 2413.71\n",
      "INFO:tensorflow:loss = 8.926346, step = 2601 (0.041 sec)\n",
      "INFO:tensorflow:global_step/sec: 2523.91\n",
      "INFO:tensorflow:loss = 8.81011, step = 2701 (0.040 sec)\n",
      "INFO:tensorflow:global_step/sec: 2480.35\n",
      "INFO:tensorflow:loss = 8.700762, step = 2801 (0.040 sec)\n",
      "INFO:tensorflow:global_step/sec: 2193.71\n",
      "INFO:tensorflow:loss = 8.597664, step = 2901 (0.046 sec)\n",
      "INFO:tensorflow:Saving checkpoints for 3000 into tmp/iris/model.ckpt.\n",
      "INFO:tensorflow:Loss for final step: 8.501207.\n",
      "INFO:tensorflow:Calling model_fn.\n",
      "INFO:tensorflow:Done calling model_fn.\n",
      "INFO:tensorflow:Starting evaluation at 2018-03-24-18:26:18\n",
      "INFO:tensorflow:Graph was finalized.\n",
      "INFO:tensorflow:Restoring parameters from tmp/iris/model.ckpt-3000\n",
      "INFO:tensorflow:Running local_init_op.\n",
      "INFO:tensorflow:Done running local_init_op.\n",
      "INFO:tensorflow:Evaluation [10/100]\n",
      "INFO:tensorflow:Evaluation [20/100]\n",
      "INFO:tensorflow:Evaluation [30/100]\n",
      "INFO:tensorflow:Evaluation [40/100]\n",
      "INFO:tensorflow:Evaluation [50/100]\n",
      "INFO:tensorflow:Evaluation [60/100]\n",
      "INFO:tensorflow:Evaluation [70/100]\n",
      "INFO:tensorflow:Evaluation [80/100]\n",
      "INFO:tensorflow:Evaluation [90/100]\n",
      "INFO:tensorflow:Evaluation [100/100]\n",
      "INFO:tensorflow:Finished evaluation at 2018-03-24-18:26:18\n",
      "INFO:tensorflow:Saving dict for global step 3000: accuracy = 0.96666664, average_loss = 0.07678515, global_step = 3000, loss = 2.3035543\n"
     ]
    }
   ],
   "source": [
    "# define training, eval spec for train and evaluate including\n",
    "train_spec = tf.estimator.TrainSpec(train_input, \n",
    "                                    max_steps=3000\n",
    "                                    )\n",
    "eval_spec = tf.estimator.EvalSpec(eval_input,\n",
    "                                name='mnist-eval'\n",
    "                                )                                  \n",
    "# run training and evaluation\n",
    "tf.estimator.train_and_evaluate(\n",
    "    classifier, train_spec, eval_spec)\n"
   ]
  },
  {
   "cell_type": "markdown",
   "metadata": {},
   "source": [
    "### Training w/ Deep Neural Network Estimator"
   ]
  },
  {
   "cell_type": "code",
   "execution_count": 7,
   "metadata": {},
   "outputs": [
    {
     "name": "stdout",
     "output_type": "stream",
     "text": [
      "INFO:tensorflow:Using default config.\n",
      "INFO:tensorflow:Using config: {'_model_dir': 'tmp/irisnn', '_tf_random_seed': None, '_save_summary_steps': 100, '_save_checkpoints_steps': None, '_save_checkpoints_secs': 600, '_session_config': None, '_keep_checkpoint_max': 5, '_keep_checkpoint_every_n_hours': 10000, '_log_step_count_steps': 100, '_service': None, '_cluster_spec': <tensorflow.python.training.server_lib.ClusterSpec object at 0x11b138748>, '_task_type': 'worker', '_task_id': 0, '_global_id_in_cluster': 0, '_master': '', '_evaluation_master': '', '_is_chief': True, '_num_ps_replicas': 0, '_num_worker_replicas': 1}\n"
     ]
    }
   ],
   "source": [
    "nn_classifier = tf.estimator.DNNClassifier(\n",
    "    feature_columns=feature_columns,\n",
    "    hidden_units=[64, 12, 4],\n",
    "    activation_fn=tf.nn.relu,\n",
    "    dropout=0.4,\n",
    "    n_classes=3,\n",
    "    optimizer=\"Adam\",    \n",
    "    model_dir=\"tmp/irisnn\")\n"
   ]
  },
  {
   "cell_type": "code",
   "execution_count": 8,
   "metadata": {
    "inputHidden": false,
    "outputHidden": false
   },
   "outputs": [
    {
     "name": "stdout",
     "output_type": "stream",
     "text": [
      "INFO:tensorflow:Running training and evaluation locally (non-distributed).\n",
      "INFO:tensorflow:Start train and evaluate loop. The evaluate will happen after 600 secs (eval_spec.throttle_secs) or training is finished.\n",
      "INFO:tensorflow:Calling model_fn.\n",
      "INFO:tensorflow:Done calling model_fn.\n",
      "INFO:tensorflow:Create CheckpointSaverHook.\n",
      "INFO:tensorflow:Graph was finalized.\n",
      "INFO:tensorflow:Running local_init_op.\n",
      "INFO:tensorflow:Done running local_init_op.\n",
      "INFO:tensorflow:Saving checkpoints for 1 into tmp/irisnn/model.ckpt.\n",
      "INFO:tensorflow:loss = 207.06589, step = 1\n",
      "INFO:tensorflow:global_step/sec: 657.427\n",
      "INFO:tensorflow:loss = 131.5281, step = 101 (0.153 sec)\n",
      "INFO:tensorflow:global_step/sec: 1115.93\n",
      "INFO:tensorflow:loss = 131.52809, step = 201 (0.090 sec)\n",
      "INFO:tensorflow:global_step/sec: 1126.57\n",
      "INFO:tensorflow:loss = 131.52808, step = 301 (0.088 sec)\n",
      "INFO:tensorflow:global_step/sec: 1268.03\n",
      "INFO:tensorflow:loss = 131.52808, step = 401 (0.080 sec)\n",
      "INFO:tensorflow:global_step/sec: 1067.02\n",
      "INFO:tensorflow:loss = 131.52808, step = 501 (0.093 sec)\n",
      "INFO:tensorflow:global_step/sec: 1116.44\n",
      "INFO:tensorflow:loss = 131.52809, step = 601 (0.090 sec)\n",
      "INFO:tensorflow:global_step/sec: 1237.67\n",
      "INFO:tensorflow:loss = 131.52808, step = 701 (0.081 sec)\n",
      "INFO:tensorflow:global_step/sec: 1124.43\n",
      "INFO:tensorflow:loss = 131.52808, step = 801 (0.089 sec)\n",
      "INFO:tensorflow:global_step/sec: 1365.21\n",
      "INFO:tensorflow:loss = 131.52808, step = 901 (0.073 sec)\n",
      "INFO:tensorflow:global_step/sec: 1276.02\n",
      "INFO:tensorflow:loss = 131.52808, step = 1001 (0.079 sec)\n",
      "INFO:tensorflow:global_step/sec: 1313.87\n",
      "INFO:tensorflow:loss = 131.52808, step = 1101 (0.076 sec)\n",
      "INFO:tensorflow:global_step/sec: 1263.95\n",
      "INFO:tensorflow:loss = 131.52808, step = 1201 (0.079 sec)\n",
      "INFO:tensorflow:global_step/sec: 1397.3\n",
      "INFO:tensorflow:loss = 131.52808, step = 1301 (0.072 sec)\n",
      "INFO:tensorflow:global_step/sec: 1466.58\n",
      "INFO:tensorflow:loss = 131.52808, step = 1401 (0.068 sec)\n",
      "INFO:tensorflow:global_step/sec: 1413.81\n",
      "INFO:tensorflow:loss = 131.52808, step = 1501 (0.071 sec)\n",
      "INFO:tensorflow:global_step/sec: 1321.72\n",
      "INFO:tensorflow:loss = 131.52808, step = 1601 (0.076 sec)\n",
      "INFO:tensorflow:global_step/sec: 1189.26\n",
      "INFO:tensorflow:loss = 131.52808, step = 1701 (0.084 sec)\n",
      "INFO:tensorflow:global_step/sec: 1269.59\n",
      "INFO:tensorflow:loss = 131.52808, step = 1801 (0.079 sec)\n",
      "INFO:tensorflow:global_step/sec: 1191.88\n",
      "INFO:tensorflow:loss = 131.52808, step = 1901 (0.084 sec)\n",
      "INFO:tensorflow:global_step/sec: 1299.24\n",
      "INFO:tensorflow:loss = 131.52808, step = 2001 (0.077 sec)\n",
      "INFO:tensorflow:global_step/sec: 1317.47\n",
      "INFO:tensorflow:loss = 131.52808, step = 2101 (0.076 sec)\n",
      "INFO:tensorflow:global_step/sec: 1242.54\n",
      "INFO:tensorflow:loss = 131.52808, step = 2201 (0.080 sec)\n",
      "INFO:tensorflow:global_step/sec: 1312.32\n",
      "INFO:tensorflow:loss = 131.52808, step = 2301 (0.077 sec)\n",
      "INFO:tensorflow:global_step/sec: 1159.77\n",
      "INFO:tensorflow:loss = 131.52808, step = 2401 (0.086 sec)\n",
      "INFO:tensorflow:global_step/sec: 1246.96\n",
      "INFO:tensorflow:loss = 131.52808, step = 2501 (0.080 sec)\n",
      "INFO:tensorflow:global_step/sec: 1316.74\n",
      "INFO:tensorflow:loss = 131.52806, step = 2601 (0.076 sec)\n",
      "INFO:tensorflow:global_step/sec: 1278.27\n",
      "INFO:tensorflow:loss = 131.52808, step = 2701 (0.078 sec)\n",
      "INFO:tensorflow:global_step/sec: 1313.26\n",
      "INFO:tensorflow:loss = 131.52808, step = 2801 (0.076 sec)\n",
      "INFO:tensorflow:global_step/sec: 1336.1\n",
      "INFO:tensorflow:loss = 131.52808, step = 2901 (0.074 sec)\n",
      "INFO:tensorflow:global_step/sec: 1448.62\n",
      "INFO:tensorflow:loss = 131.52808, step = 3001 (0.069 sec)\n",
      "INFO:tensorflow:global_step/sec: 1414.63\n",
      "INFO:tensorflow:loss = 131.52808, step = 3101 (0.071 sec)\n",
      "INFO:tensorflow:global_step/sec: 1265.2\n",
      "INFO:tensorflow:loss = 131.52808, step = 3201 (0.079 sec)\n",
      "INFO:tensorflow:global_step/sec: 1313.75\n",
      "INFO:tensorflow:loss = 131.52808, step = 3301 (0.076 sec)\n",
      "INFO:tensorflow:global_step/sec: 1342.39\n",
      "INFO:tensorflow:loss = 131.52808, step = 3401 (0.074 sec)\n",
      "INFO:tensorflow:global_step/sec: 1447.53\n",
      "INFO:tensorflow:loss = 131.52808, step = 3501 (0.069 sec)\n",
      "INFO:tensorflow:global_step/sec: 1328.27\n",
      "INFO:tensorflow:loss = 131.52808, step = 3601 (0.075 sec)\n",
      "INFO:tensorflow:global_step/sec: 1372.02\n",
      "INFO:tensorflow:loss = 131.52808, step = 3701 (0.073 sec)\n",
      "INFO:tensorflow:global_step/sec: 1186.72\n",
      "INFO:tensorflow:loss = 131.52808, step = 3801 (0.084 sec)\n",
      "INFO:tensorflow:global_step/sec: 1255.11\n",
      "INFO:tensorflow:loss = 131.52808, step = 3901 (0.080 sec)\n",
      "INFO:tensorflow:global_step/sec: 1212.19\n",
      "INFO:tensorflow:loss = 131.52808, step = 4001 (0.082 sec)\n",
      "INFO:tensorflow:global_step/sec: 1182.47\n",
      "INFO:tensorflow:loss = 131.52806, step = 4101 (0.085 sec)\n",
      "INFO:tensorflow:Saving checkpoints for 4200 into tmp/irisnn/model.ckpt.\n",
      "INFO:tensorflow:Loss for final step: 131.52808.\n",
      "INFO:tensorflow:Calling model_fn.\n",
      "INFO:tensorflow:Done calling model_fn.\n",
      "INFO:tensorflow:Starting evaluation at 2018-03-24-18:26:23\n",
      "INFO:tensorflow:Graph was finalized.\n",
      "INFO:tensorflow:Restoring parameters from tmp/irisnn/model.ckpt-4200\n",
      "INFO:tensorflow:Running local_init_op.\n",
      "INFO:tensorflow:Done running local_init_op.\n",
      "INFO:tensorflow:Evaluation [10/100]\n",
      "INFO:tensorflow:Evaluation [20/100]\n",
      "INFO:tensorflow:Evaluation [30/100]\n",
      "INFO:tensorflow:Evaluation [40/100]\n",
      "INFO:tensorflow:Evaluation [50/100]\n",
      "INFO:tensorflow:Evaluation [60/100]\n",
      "INFO:tensorflow:Evaluation [70/100]\n",
      "INFO:tensorflow:Evaluation [80/100]\n",
      "INFO:tensorflow:Evaluation [90/100]\n",
      "INFO:tensorflow:Evaluation [100/100]\n",
      "INFO:tensorflow:Finished evaluation at 2018-03-24-18:26:23\n",
      "INFO:tensorflow:Saving dict for global step 4200: accuracy = 0.26666668, average_loss = 1.1217604, global_step = 4200, loss = 33.652813\n"
     ]
    }
   ],
   "source": [
    "# define training, eval spec for train and evaluate including\n",
    "train_spec = tf.estimator.TrainSpec(train_input, \n",
    "                                    max_steps=4200\n",
    "                                    )\n",
    "eval_spec = tf.estimator.EvalSpec(eval_input,\n",
    "                                name='mnist-eval'\n",
    "                                )                                  \n",
    "# run training and evaluation\n",
    "tf.estimator.train_and_evaluate(\n",
    "    nn_classifier, train_spec, eval_spec)"
   ]
  },
  {
   "cell_type": "markdown",
   "metadata": {},
   "source": [
    "### Serving function and exporter"
   ]
  },
  {
   "cell_type": "code",
   "execution_count": 9,
   "metadata": {
    "inputHidden": false,
    "outputHidden": false
   },
   "outputs": [],
   "source": [
    "feature_spec = {feature_name: \n",
    "                tf.FixedLenFeature(shape=[4], dtype=np.float32)}\n",
    "serving_fn = tf.estimator.export.build_parsing_serving_input_receiver_fn(feature_spec)\n",
    "\n",
    "exporter = tf.estimator.LatestExporter('exporter',serving_fn) \n",
    "\n",
    "eval_spec = tf.estimator.EvalSpec(eval_input,\n",
    "                                name='mnist-eval',\n",
    "                                exporters=[exporter]\n",
    "                                )     "
   ]
  },
  {
   "cell_type": "markdown",
   "metadata": {},
   "source": [
    "### Re-run and export model"
   ]
  },
  {
   "cell_type": "code",
   "execution_count": 10,
   "metadata": {},
   "outputs": [
    {
     "name": "stdout",
     "output_type": "stream",
     "text": [
      "INFO:tensorflow:Running training and evaluation locally (non-distributed).\n",
      "INFO:tensorflow:Start train and evaluate loop. The evaluate will happen after 600 secs (eval_spec.throttle_secs) or training is finished.\n",
      "INFO:tensorflow:Skipping training since max_steps has already saved.\n",
      "INFO:tensorflow:Calling model_fn.\n",
      "INFO:tensorflow:Done calling model_fn.\n",
      "INFO:tensorflow:Starting evaluation at 2018-03-24-18:26:27\n",
      "INFO:tensorflow:Graph was finalized.\n",
      "INFO:tensorflow:Restoring parameters from tmp/irisnn/model.ckpt-4200\n",
      "INFO:tensorflow:Running local_init_op.\n",
      "INFO:tensorflow:Done running local_init_op.\n",
      "INFO:tensorflow:Evaluation [10/100]\n",
      "INFO:tensorflow:Evaluation [20/100]\n",
      "INFO:tensorflow:Evaluation [30/100]\n",
      "INFO:tensorflow:Evaluation [40/100]\n",
      "INFO:tensorflow:Evaluation [50/100]\n",
      "INFO:tensorflow:Evaluation [60/100]\n",
      "INFO:tensorflow:Evaluation [70/100]\n",
      "INFO:tensorflow:Evaluation [80/100]\n",
      "INFO:tensorflow:Evaluation [90/100]\n",
      "INFO:tensorflow:Evaluation [100/100]\n",
      "INFO:tensorflow:Finished evaluation at 2018-03-24-18:26:28\n",
      "INFO:tensorflow:Saving dict for global step 4200: accuracy = 0.26666668, average_loss = 1.1217604, global_step = 4200, loss = 33.652813\n",
      "INFO:tensorflow:Calling model_fn.\n",
      "INFO:tensorflow:Done calling model_fn.\n",
      "INFO:tensorflow:Signatures INCLUDED in export for Classify: ['serving_default', 'classification']\n",
      "INFO:tensorflow:Signatures INCLUDED in export for Regress: None\n",
      "INFO:tensorflow:Signatures INCLUDED in export for Predict: ['predict']\n",
      "INFO:tensorflow:Restoring parameters from tmp/irisnn/model.ckpt-4200\n",
      "INFO:tensorflow:Assets added to graph.\n",
      "INFO:tensorflow:No assets to write.\n",
      "INFO:tensorflow:SavedModel written to: b\"tmp/irisnn/export/exporter/temp-b'1521915988'/saved_model.pb\"\n"
     ]
    }
   ],
   "source": [
    "# run training and evaluation\n",
    "tf.estimator.train_and_evaluate(\n",
    "    nn_classifier, train_spec, eval_spec)"
   ]
  },
  {
   "cell_type": "markdown",
   "metadata": {},
   "source": [
    "### Export Model for Prediction"
   ]
  },
  {
   "cell_type": "code",
   "execution_count": 11,
   "metadata": {},
   "outputs": [
    {
     "name": "stdout",
     "output_type": "stream",
     "text": [
      "INFO:tensorflow:Calling model_fn.\n",
      "INFO:tensorflow:Done calling model_fn.\n",
      "INFO:tensorflow:Graph was finalized.\n",
      "INFO:tensorflow:Restoring parameters from tmp/irisnn/model.ckpt-4200\n",
      "INFO:tensorflow:Running local_init_op.\n",
      "INFO:tensorflow:Done running local_init_op.\n",
      "New Samples, Class Predictions: [0, 0]\n",
      "\n"
     ]
    }
   ],
   "source": [
    "new_samples = np.array(\n",
    "      [[6.4, 3.2, 4.5, 1.5],\n",
    "       [5.8, 3.1, 5.0, 1.7]], dtype=np.float32)\n",
    "    \n",
    "predict_input_fn = tf.estimator.inputs.numpy_input_fn(\n",
    "      x={feature_name: new_samples},\n",
    "      num_epochs=1,\n",
    "      shuffle=False)\n",
    "\n",
    "predictions = list(nn_classifier.predict(input_fn=predict_input_fn))\n",
    "predicted_classes = [int(p['classes']) for p in predictions]\n",
    "\n",
    "print(\"New Samples, Class Predictions: {}\\n\".format(predicted_classes))"
   ]
  },
  {
   "cell_type": "code",
   "execution_count": null,
   "metadata": {
    "inputHidden": false,
    "outputHidden": false
   },
   "outputs": [],
   "source": []
  },
  {
   "cell_type": "code",
   "execution_count": null,
   "metadata": {
    "inputHidden": false,
    "outputHidden": false
   },
   "outputs": [],
   "source": []
  }
 ],
 "metadata": {
  "kernel_info": {
   "name": "python3"
  },
  "kernelspec": {
   "display_name": "Python 3",
   "language": "python",
   "name": "python3"
  },
  "language_info": {
   "codemirror_mode": {
    "name": "ipython",
    "version": 3
   },
   "file_extension": ".py",
   "mimetype": "text/x-python",
   "name": "python",
   "nbconvert_exporter": "python",
   "pygments_lexer": "ipython3",
   "version": "3.6.4"
  },
  "nteract": {
   "version": "0.8.4"
  }
 },
 "nbformat": 4,
 "nbformat_minor": 2
}
